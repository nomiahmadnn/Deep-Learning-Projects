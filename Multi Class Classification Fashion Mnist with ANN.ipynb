{
 "cells": [
  {
   "cell_type": "markdown",
   "id": "f141497a",
   "metadata": {},
   "source": [
    "### Objective: The main objective is to identify the digit based on image. It is multi class classification problems where we have 10 categories."
   ]
  },
  {
   "cell_type": "code",
   "execution_count": 1,
   "id": "5bec26b2",
   "metadata": {},
   "outputs": [],
   "source": [
    "# Importing Libraries\n",
    "import tensorflow as tf\n",
    "import numpy as np\n",
    "import pandas as pd\n",
    "import matplotlib.pyplot as plt"
   ]
  },
  {
   "cell_type": "markdown",
   "id": "e7c7520e",
   "metadata": {},
   "source": [
    "# Data Preprocessing"
   ]
  },
  {
   "cell_type": "code",
   "execution_count": 2,
   "id": "48fdcd59",
   "metadata": {},
   "outputs": [],
   "source": [
    "# Importing the dataset\n",
    "from tensorflow.keras.datasets import fashion_mnist"
   ]
  },
  {
   "cell_type": "code",
   "execution_count": 3,
   "id": "6fa1141f",
   "metadata": {},
   "outputs": [],
   "source": [
    "# Loading the dataset\n",
    "(X_train, y_train), (X_test, y_test) = fashion_mnist.load_data()"
   ]
  },
  {
   "cell_type": "code",
   "execution_count": 6,
   "id": "09f2387a",
   "metadata": {},
   "outputs": [
    {
     "data": {
      "text/plain": [
       "((60000, 28, 28), (10000, 28, 28))"
      ]
     },
     "execution_count": 6,
     "metadata": {},
     "output_type": "execute_result"
    }
   ],
   "source": [
    "X_train.shape, X_test.shape"
   ]
  },
  {
   "cell_type": "code",
   "execution_count": 8,
   "id": "0613589f",
   "metadata": {},
   "outputs": [
    {
     "data": {
      "text/plain": [
       "((60000,), (10000,))"
      ]
     },
     "execution_count": 8,
     "metadata": {},
     "output_type": "execute_result"
    }
   ],
   "source": [
    "y_train.shape, y_test.shape"
   ]
  },
  {
   "cell_type": "code",
   "execution_count": 9,
   "id": "a4538b67",
   "metadata": {},
   "outputs": [
    {
     "data": {
      "text/plain": [
       "(255, 0, 72.94035223214286)"
      ]
     },
     "execution_count": 9,
     "metadata": {},
     "output_type": "execute_result"
    }
   ],
   "source": [
    "# Range of Pixel Values\n",
    "np.max(X_train), np.min(X_train), np.mean(X_train)"
   ]
  },
  {
   "cell_type": "code",
   "execution_count": 10,
   "id": "5f35750f",
   "metadata": {},
   "outputs": [
    {
     "data": {
      "text/plain": [
       "(9, 0)"
      ]
     },
     "execution_count": 10,
     "metadata": {},
     "output_type": "execute_result"
    }
   ],
   "source": [
    "# Number of Classes 0 to 9.\n",
    "np.max(y_train), np.min(y_train)"
   ]
  },
  {
   "cell_type": "code",
   "execution_count": 11,
   "id": "09159f60",
   "metadata": {},
   "outputs": [
    {
     "name": "stdout",
     "output_type": "stream",
     "text": [
      "['0 Top/T-shirt', '1 Trouser', '2 Pullover', '3 Dress', '4 Coat', '5 Sandal', '6 Shirt', '7 Sneaker', '8 Bag', '9 Ankle boot']\n"
     ]
    }
   ],
   "source": [
    "# Assign Labels\n",
    "class_names = ['0 Top/T-shirt', '1 Trouser', '2 Pullover', '3 Dress', '4 Coat', '5 Sandal', '6 Shirt', '7 Sneaker', '8 Bag', '9 Ankle boot']\n",
    "print(class_names)"
   ]
  },
  {
   "cell_type": "code",
   "execution_count": 14,
   "id": "bf37f322",
   "metadata": {},
   "outputs": [
    {
     "data": {
      "text/plain": [
       "<matplotlib.colorbar.Colorbar at 0x2069f7ea910>"
      ]
     },
     "execution_count": 14,
     "metadata": {},
     "output_type": "execute_result"
    },
    {
     "data": {
      "image/png": "[encoded data removed]",
      "text/plain": [
       "<Figure size 432x288 with 2 Axes>"
      ]
     },
     "metadata": {
      "needs_background": "light"
     },
     "output_type": "display_data"
    }
   ],
   "source": [
    "# Data Exploration\n",
    "plt.figure()\n",
    "plt.imshow(X_train[1])\n",
    "plt.colorbar()   # Here we have 256 pixel and image size is 28 x 28."
   ]
  },
  {
   "cell_type": "code",
   "execution_count": 13,
   "id": "4ad914cb",
   "metadata": {},
   "outputs": [
    {
     "data": {
      "text/plain": [
       "0"
      ]
     },
     "execution_count": 13,
     "metadata": {},
     "output_type": "execute_result"
    }
   ],
   "source": [
    "y_train[1]"
   ]
  },
  {
   "cell_type": "code",
   "execution_count": 15,
   "id": "6cab69a5",
   "metadata": {},
   "outputs": [],
   "source": [
    "# Normalizing the dataset, after the normalization neural network learn faster.\n",
    "X_train = X_train/255.0\n",
    "X_test = X_test/255.0"
   ]
  },
  {
   "cell_type": "code",
   "execution_count": 16,
   "id": "a9248ef6",
   "metadata": {},
   "outputs": [
    {
     "data": {
      "text/plain": [
       "<matplotlib.colorbar.Colorbar at 0x20699e29c70>"
      ]
     },
     "execution_count": 16,
     "metadata": {},
     "output_type": "execute_result"
    },
    {
     "data": {
      "image/png": "[encoded data removed]",
      "text/plain": [
       "<Figure size 432x288 with 2 Axes>"
      ]
     },
     "metadata": {
      "needs_background": "light"
     },
     "output_type": "display_data"
    }
   ],
   "source": [
    "# After normalization pixel\n",
    "plt.figure()\n",
    "plt.imshow(X_train[1])\n",
    "plt.colorbar()"
   ]
  },
  {
   "cell_type": "code",
   "execution_count": 17,
   "id": "6c4027d5",
   "metadata": {},
   "outputs": [
    {
     "data": {
      "text/plain": [
       "((60000, 28, 28), (10000, 28, 28))"
      ]
     },
     "execution_count": 17,
     "metadata": {},
     "output_type": "execute_result"
    }
   ],
   "source": [
    "# Flattening the dataset, means convert 2d array 28x28 into 1d arrays of X_train.\n",
    "X_train.shape, X_test.shape"
   ]
  },
  {
   "cell_type": "code",
   "execution_count": 18,
   "id": "94af2ba3",
   "metadata": {},
   "outputs": [],
   "source": [
    "# reshape takes two arguments -1 means we are selecting all the 60000 images in the dataset.\n",
    "# 28*28 convert into single dimension 784.\n",
    "X_train = X_train.reshape(-1, 28*28)\n",
    "X_test = X_test.reshape(-1, 28*28)"
   ]
  },
  {
   "cell_type": "code",
   "execution_count": 19,
   "id": "9bf3c615",
   "metadata": {},
   "outputs": [
    {
     "data": {
      "text/plain": [
       "((60000, 784), (10000, 784))"
      ]
     },
     "execution_count": 19,
     "metadata": {},
     "output_type": "execute_result"
    }
   ],
   "source": [
    "X_train.shape, X_test.shape"
   ]
  },
  {
   "cell_type": "markdown",
   "id": "73477ef2",
   "metadata": {},
   "source": [
    "# Building the Model"
   ]
  },
  {
   "cell_type": "code",
   "execution_count": 20,
   "id": "2ea6ec34",
   "metadata": {},
   "outputs": [],
   "source": [
    "# Define an object\n",
    "model = tf.keras.models.Sequential()"
   ]
  },
  {
   "cell_type": "code",
   "execution_count": 21,
   "id": "5b6d22d3",
   "metadata": {},
   "outputs": [],
   "source": [
    "# adding first fully connected layer require three parameters.\n",
    "# 1) units (No of neurons) = 128\n",
    "# 2) ativation function = ReLU\n",
    "# 3) input shape = 784\n",
    "model.add(tf.keras.layers.Dense(units=128, activation='relu', input_shape=(784,)))"
   ]
  },
  {
   "cell_type": "code",
   "execution_count": 22,
   "id": "31224575",
   "metadata": {},
   "outputs": [],
   "source": [
    "# adding the second layer with dropout. it prevent overfitting.\n",
    "# Here we are dropping 30% of neurons\n",
    "model.add(tf.keras.layers.Dropout(0.3))"
   ]
  },
  {
   "cell_type": "code",
   "execution_count": 23,
   "id": "b5d489bf",
   "metadata": {},
   "outputs": [],
   "source": [
    "# Adding the output layer\n",
    "# we will add two parameters in output layer.\n",
    "# 1) units (number of neurons) = 10   because of 10 classes.\n",
    "# 2) activation = softmax.  (for multiple output)\n",
    "model.add(tf.keras.layers.Dense(units=10, activation='softmax'))"
   ]
  },
  {
   "cell_type": "markdown",
   "id": "92d29d74",
   "metadata": {},
   "source": [
    "# Training the Model"
   ]
  },
  {
   "cell_type": "code",
   "execution_count": 25,
   "id": "ab7229f1",
   "metadata": {},
   "outputs": [],
   "source": [
    "# Compile the model, we have to add three arguments\n",
    "# 1) optimizer = adam , update the weights to minimize the loss function.\n",
    "# 2) loss function = sparse_categorical_crossentropy, act as a guide for optimizer to reach global minima.\n",
    "# 3) metrics = sparse_categorical_accuracy, for multiple output.\n",
    "model.compile(optimizer='adam', loss='sparse_categorical_crossentropy', metrics=['sparse_categorical_accuracy'])"
   ]
  },
  {
   "cell_type": "code",
   "execution_count": 26,
   "id": "58723ceb",
   "metadata": {},
   "outputs": [
    {
     "name": "stdout",
     "output_type": "stream",
     "text": [
      "Model: \"sequential\"\n",
      "_________________________________________________________________\n",
      " Layer (type)                Output Shape              Param #   \n",
      "=================================================================\n",
      " dense (Dense)               (None, 128)               100480    \n",
      "                                                                 \n",
      " dropout (Dropout)           (None, 128)               0         \n",
      "                                                                 \n",
      " dense_1 (Dense)             (None, 10)                1290      \n",
      "                                                                 \n",
      "=================================================================\n",
      "Total params: 101,770\n",
      "Trainable params: 101,770\n",
      "Non-trainable params: 0\n",
      "_________________________________________________________________\n"
     ]
    }
   ],
   "source": [
    "model.summary()"
   ]
  },
  {
   "cell_type": "code",
   "execution_count": 27,
   "id": "95632af7",
   "metadata": {},
   "outputs": [
    {
     "name": "stdout",
     "output_type": "stream",
     "text": [
      "Epoch 1/10\n",
      "1875/1875 [==============================] - 4s 2ms/step - loss: 0.5507 - sparse_categorical_accuracy: 0.8062\n",
      "Epoch 2/10\n",
      "1875/1875 [==============================] - 3s 2ms/step - loss: 0.4189 - sparse_categorical_accuracy: 0.8486\n",
      "Epoch 3/10\n",
      "1875/1875 [==============================] - 3s 2ms/step - loss: 0.3860 - sparse_categorical_accuracy: 0.8594\n",
      "Epoch 4/10\n",
      "1875/1875 [==============================] - 4s 2ms/step - loss: 0.3652 - sparse_categorical_accuracy: 0.8667\n",
      "Epoch 5/10\n",
      "1875/1875 [==============================] - 3s 2ms/step - loss: 0.3504 - sparse_categorical_accuracy: 0.8716\n",
      "Epoch 6/10\n",
      "1875/1875 [==============================] - 3s 2ms/step - loss: 0.3379 - sparse_categorical_accuracy: 0.8760\n",
      "Epoch 7/10\n",
      "1875/1875 [==============================] - 3s 2ms/step - loss: 0.3288 - sparse_categorical_accuracy: 0.8773\n",
      "Epoch 8/10\n",
      "1875/1875 [==============================] - 3s 2ms/step - loss: 0.3213 - sparse_categorical_accuracy: 0.8810\n",
      "Epoch 9/10\n",
      "1875/1875 [==============================] - 4s 2ms/step - loss: 0.3146 - sparse_categorical_accuracy: 0.8844\n",
      "Epoch 10/10\n",
      "1875/1875 [==============================] - 3s 2ms/step - loss: 0.3100 - sparse_categorical_accuracy: 0.8845\n"
     ]
    },
    {
     "data": {
      "text/plain": [
       "<keras.callbacks.History at 0x2069a08ef40>"
      ]
     },
     "execution_count": 27,
     "metadata": {},
     "output_type": "execute_result"
    }
   ],
   "source": [
    "# Training the model\n",
    "# epochs means we are training our model 10 times.\n",
    "model.fit(X_train, y_train, epochs=10)"
   ]
  },
  {
   "cell_type": "markdown",
   "id": "817789b1",
   "metadata": {},
   "source": [
    "# Model evaluation and prediction"
   ]
  },
  {
   "cell_type": "code",
   "execution_count": 28,
   "id": "44606ce8",
   "metadata": {},
   "outputs": [
    {
     "name": "stdout",
     "output_type": "stream",
     "text": [
      "313/313 [==============================] - 1s 1ms/step - loss: 0.3520 - sparse_categorical_accuracy: 0.8731\n"
     ]
    }
   ],
   "source": [
    "# Model evaluation\n",
    "test_loss, test_accuracy = model.evaluate(X_test, y_test)"
   ]
  },
  {
   "cell_type": "code",
   "execution_count": 29,
   "id": "4f4bf738",
   "metadata": {},
   "outputs": [
    {
     "name": "stdout",
     "output_type": "stream",
     "text": [
      "Test accuarcy is : 0.8730999827384949\n"
     ]
    }
   ],
   "source": [
    "print(f\"Test accuarcy is : {test_accuracy}\")"
   ]
  },
  {
   "cell_type": "code",
   "execution_count": 31,
   "id": "aa4eb087",
   "metadata": {},
   "outputs": [],
   "source": [
    "# Model Prediction\n",
    "y_pred = np.argmax(model.predict(X_test), axis=1)"
   ]
  },
  {
   "cell_type": "code",
   "execution_count": 32,
   "id": "eb8f81a0",
   "metadata": {},
   "outputs": [
    {
     "name": "stdout",
     "output_type": "stream",
     "text": [
      "[9 2 1 ... 8 1 5]\n"
     ]
    }
   ],
   "source": [
    "print(y_pred)"
   ]
  },
  {
   "cell_type": "code",
   "execution_count": 35,
   "id": "6553692e",
   "metadata": {},
   "outputs": [
    {
     "data": {
      "text/plain": [
       "(9, 9)"
      ]
     },
     "execution_count": 35,
     "metadata": {},
     "output_type": "execute_result"
    }
   ],
   "source": [
    "# Predicted and actual output.\n",
    "y_pred[0], y_test[0]  "
   ]
  },
  {
   "cell_type": "code",
   "execution_count": 36,
   "id": "2b696e9a",
   "metadata": {},
   "outputs": [
    {
     "name": "stdout",
     "output_type": "stream",
     "text": [
      "['0 Top/T-shirt', '1 Trouser', '2 Pullover', '3 Dress', '4 Coat', '5 Sandal', '6 Shirt', '7 Sneaker', '8 Bag', '9 Ankle boot']\n"
     ]
    }
   ],
   "source": [
    "print(class_names)"
   ]
  },
  {
   "cell_type": "code",
   "execution_count": 37,
   "id": "42dfb7d4",
   "metadata": {},
   "outputs": [
    {
     "data": {
      "text/plain": [
       "array([[733,   1,  25,  35,   3,   1, 197,   0,   5,   0],\n",
       "       [  4, 973,   0,  17,   3,   0,   2,   0,   1,   0],\n",
       "       [  9,   1, 899,   6,  43,   0,  41,   0,   1,   0],\n",
       "       [ 10,   9,  23, 887,  37,   0,  33,   0,   1,   0],\n",
       "       [  0,   0, 195,  23, 691,   0,  90,   0,   1,   0],\n",
       "       [  0,   0,   0,   0,   0, 972,   0,  18,   1,   9],\n",
       "       [ 72,   0, 144,  27,  49,   0, 698,   0,  10,   0],\n",
       "       [  0,   0,   0,   0,   0,  18,   0, 958,   0,  24],\n",
       "       [  2,   0,   9,   4,   4,   3,   6,   3, 969,   0],\n",
       "       [  1,   0,   0,   0,   0,  11,   0,  37,   0, 951]], dtype=int64)"
      ]
     },
     "execution_count": 37,
     "metadata": {},
     "output_type": "execute_result"
    }
   ],
   "source": [
    "# Confusion Matrix \n",
    "from sklearn.metrics import confusion_matrix, accuracy_score\n",
    "confusion_matrix(y_test, y_pred)"
   ]
  },
  {
   "cell_type": "code",
   "execution_count": 38,
   "id": "3e22b417",
   "metadata": {},
   "outputs": [
    {
     "data": {
      "text/plain": [
       "0.8731"
      ]
     },
     "execution_count": 38,
     "metadata": {},
     "output_type": "execute_result"
    }
   ],
   "source": [
    "# accuracy score\n",
    "accuracy_score(y_test, y_pred)"
   ]
  },
  {
   "cell_type": "code",
   "execution_count": null,
   "id": "b6d4d0e9",
   "metadata": {},
   "outputs": [],
   "source": []
  }
 ],
 "metadata": {
  "kernelspec": {
   "display_name": "Python 3 (ipykernel)",
   "language": "python",
   "name": "python3"
  },
  "language_info": {
   "codemirror_mode": {
    "name": "ipython",
    "version": 3
   },
   "file_extension": ".py",
   "mimetype": "text/x-python",
   "name": "python",
   "nbconvert_exporter": "python",
   "pygments_lexer": "ipython3",
   "version": "3.8.13"
  }
 },
 "nbformat": 4,
 "nbformat_minor": 5
}
